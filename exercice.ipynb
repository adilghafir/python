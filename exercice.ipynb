{
  "nbformat": 4,
  "nbformat_minor": 0,
  "metadata": {
    "colab": {
      "provenance": [],
      "authorship_tag": "ABX9TyPbcDW8ETjmNAoBoJ6IZG0y",
      "include_colab_link": true
    },
    "kernelspec": {
      "name": "python3",
      "display_name": "Python 3"
    },
    "language_info": {
      "name": "python"
    }
  },
  "cells": [
    {
      "cell_type": "markdown",
      "metadata": {
        "id": "view-in-github",
        "colab_type": "text"
      },
      "source": [
        "<a href=\"https://colab.research.google.com/github/adilghafir/python/blob/main/exercice.ipynb\" target=\"_parent\"><img src=\"https://colab.research.google.com/assets/colab-badge.svg\" alt=\"Open In Colab\"/></a>"
      ]
    },
    {
      "cell_type": "markdown",
      "source": [
        "\n",
        "\n",
        "\n",
        "Créer une fonction « resultats » qui simule les moyennes générales obtenues par les étudiants fictifs d'une\n",
        "classe et qui retourne les mentions de ceux qui ont validé le semestre. On suppose que les moyennes générales\n",
        "sont des nombres entiers compris entre 0 et 20.\n",
        "La fonction « resultats » a un seul paramètre: le nombre d'étudiants à simuler (que l’on notera « nombre »), et\n",
        "retourne un dictionnaire « mentions » associant à chaque étudiant sa mention.\n",
        "Voici quelques consignes à respecter :\n",
        "- Importer le module numpy : import numpy as np\n",
        "- Fixer la graine du générateur des nombres aléatoires à 0 : np.random.seed(0)\n",
        "- Simuler les notes : np.random.randint(low=0, high=20, size=nombre, dtype=int)\n",
        "- Stocker les notes dans une liste « notes »\n",
        "- Créer la liste des étudiants : etudiants =[ etudiant_1, etudiant_2, etudiant_3,…]\n",
        "- Créer les dictionnaires « favorables » et « defavorables » qui associent à chaque étudiant sa note et le\n",
        "classent parmi ceux qui ont validé ou ceux qui n’ont pas validé le semestre.\n",
        "- Créer le dictionnaire « mentions » qui attribue à chaque étudiant ayant validé le semestre la mention\n",
        "obtenue comme suit :\n",
        "o Passable (10 ≤ 𝑛𝑜𝑡𝑒 < 12)\n",
        "o Assez bien (12 ≤ 𝑛𝑜𝑡𝑒 < 14)\n",
        "o Bien (14 ≤ 𝑛𝑜𝑡𝑒 < 16)\n",
        "o Très bien (16 ≤ 𝑛𝑜𝑡𝑒 < 18)\n",
        "o Excellent (18 ≤ 𝑛𝑜𝑡𝑒) \n",
        "\n"
      ],
      "metadata": {
        "id": "UwEq-tU1IzHz"
      }
    },
    {
      "cell_type": "code",
      "execution_count": null,
      "metadata": {
        "colab": {
          "base_uri": "https://localhost:8080/"
        },
        "id": "y0uG7VXsHktC",
        "outputId": "8de63289-41b5-41bb-f711-0f6610b081a7"
      },
      "outputs": [
        {
          "output_type": "execute_result",
          "data": {
            "text/plain": [
              "{'etudiant_1': 'Assez bien',\n",
              " 'etudiant_2': 'Bien',\n",
              " 'etudiant_8': 'Excellent',\n",
              " 'etudiant_9': 'Excellent',\n",
              " 'etudiant_12': 'Assez bien',\n",
              " 'etudiant_16': 'Bien',\n",
              " 'etudiant_17': 'Très bien',\n",
              " 'etudiant_19': 'Assez bien',\n",
              " 'etudiant_22': 'Excellent',\n",
              " 'etudiant_23': 'Très bien',\n",
              " 'etudiant_24': 'Excellent',\n",
              " 'etudiant_26': 'Bien',\n",
              " 'etudiant_27': 'Bien',\n",
              " 'etudiant_29': 'Excellent'}"
            ]
          },
          "metadata": {},
          "execution_count": 23
        }
      ],
      "source": [
        "import numpy as np\n",
        "\n",
        "def resultats(nombre):\n",
        "    np.random.seed(0)\n",
        "    notes = np.random.randint(low=0, high=20, size=nombre, dtype=int)\n",
        "    etudiants = [\"etudiant_\" + str(i) for i in range(1, nombre + 1)]\n",
        "    favorables = {etudiants[i]: notes[i] for i in range(nombre) if notes[i] >= 10}\n",
        "    defavorables = {etudiants[i]: notes[i] for i in range(nombre) if notes[i] < 10}\n",
        "    mentions = {etudiants: \"Passable\" if note < 12 else\n",
        "                \"Assez bien\" if note < 14 else\n",
        "                \"Bien\" if note < 16 else\n",
        "                \"Très bien\" if note < 18 else\n",
        "                \"Excellent\"\n",
        "                for etudiants, note in favorables.items()}\n",
        "    return mentions\n",
        "resultats(30)"
      ]
    },
    {
      "cell_type": "code",
      "source": [
        "import numpy as np\n",
        "np.random.seed(0)\n",
        "note=np.random.randint(low=0,high=20,size=30,dtype=int)\n",
        "lis=[\"etudiant_\"+str(i) for i in range(1,31)]\n",
        "favorable={lis[i]:note[i] for i in range (1,30) if note[i] >=10}\n",
        "defavorable={lis[i]:note[i] for i in range (1,30) if note[i] <10}\n",
        "moyenne={list[i]:note[i] for i in range (1,30) if note[i]<12 and note[i]>=10 \n"
      ],
      "metadata": {
        "colab": {
          "base_uri": "https://localhost:8080/"
        },
        "id": "kBNYW_b8dM1l",
        "outputId": "8fc47440-1290-4f8a-8bdf-91b38fb13ed0"
      },
      "execution_count": null,
      "outputs": [
        {
          "output_type": "stream",
          "name": "stdout",
          "text": [
            "[12 15  0  3  3  7  9 19 18  4  6 12  1  6  7 14 17  5 13  8  9 19 16 19\n",
            "  5 15 15  0 18  3]\n",
            "{'etudiant_2': 15, 'etudiant_8': 19, 'etudiant_9': 18, 'etudiant_12': 12, 'etudiant_16': 14, 'etudiant_17': 17, 'etudiant_19': 13, 'etudiant_22': 19, 'etudiant_23': 16, 'etudiant_24': 19, 'etudiant_26': 15, 'etudiant_27': 15, 'etudiant_29': 18}\n"
          ]
        },
        {
          "output_type": "execute_result",
          "data": {
            "text/plain": [
              "{'etudiant_3': 0,\n",
              " 'etudiant_4': 3,\n",
              " 'etudiant_5': 3,\n",
              " 'etudiant_6': 7,\n",
              " 'etudiant_7': 9,\n",
              " 'etudiant_10': 4,\n",
              " 'etudiant_11': 6,\n",
              " 'etudiant_13': 1,\n",
              " 'etudiant_14': 6,\n",
              " 'etudiant_15': 7,\n",
              " 'etudiant_18': 5,\n",
              " 'etudiant_20': 8,\n",
              " 'etudiant_21': 9,\n",
              " 'etudiant_25': 5,\n",
              " 'etudiant_28': 0,\n",
              " 'etudiant_30': 3}"
            ]
          },
          "metadata": {},
          "execution_count": 20
        }
      ]
    }
  ]
}