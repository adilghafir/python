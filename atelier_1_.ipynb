{
  "nbformat": 4,
  "nbformat_minor": 0,
  "metadata": {
    "colab": {
      "provenance": []
    },
    "kernelspec": {
      "name": "python3",
      "display_name": "Python 3"
    },
    "language_info": {
      "name": "python"
    }
  },
  "cells": [
    {
      "cell_type": "code",
      "execution_count": null,
      "metadata": {
        "id": "3tvRwNpeX-g7"
      },
      "outputs": [],
      "source": [
        "def puissance (x,n):\n",
        "  p=1\n",
        "  for i in range (n):\n",
        "    p=p*x\n",
        "  return p\n",
        "print (puissance(int(input()),int(input()))) "
      ]
    },
    {
      "cell_type": "code",
      "source": [
        "def factoriel (x):\n",
        "  if x==0 :\n",
        "    return 1\n",
        "  else :\n",
        "    f=x*factoriel(x-1)\n",
        "    return f\n",
        "print(factoriel(int(input())))"
      ],
      "metadata": {
        "id": "CwX-42P-YGLT"
      },
      "execution_count": null,
      "outputs": []
    },
    {
      "cell_type": "code",
      "source": [
        "def factoriel (x):\n",
        "  if x==0 :\n",
        "    return 1\n",
        "  else :\n",
        "    f=x*factoriel(x-1)\n",
        "    return f\n",
        "n=int(input(\"veuillez saisir la valeur de n \"))\n",
        "s=0\n",
        "for i in range (1,n+1):\n",
        "  s=s+factoriel (i)/i\n",
        "print (s)"
      ],
      "metadata": {
        "id": "v2ejrPbwYMj8"
      },
      "execution_count": null,
      "outputs": []
    }
  ]
}